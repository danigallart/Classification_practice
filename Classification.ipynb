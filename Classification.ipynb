{
 "cells": [
  {
   "cell_type": "code",
   "execution_count": 48,
   "id": "1b9fc375-cbb9-4e0b-91be-bb57ff21f195",
   "metadata": {},
   "outputs": [
    {
     "data": {
      "text/plain": [
       "dict_keys(['data', 'target', 'frame', 'categories', 'feature_names', 'target_names', 'DESCR', 'details', 'url'])"
      ]
     },
     "execution_count": 48,
     "metadata": {},
     "output_type": "execute_result"
    }
   ],
   "source": [
    "from sklearn.datasets import fetch_openml\n",
    "mnist = fetch_openml('mnist_784', version=1)\n",
    "mnist.keys()"
   ]
  },
  {
   "cell_type": "code",
   "execution_count": 49,
   "id": "82b8be82-5d4c-41a7-8d9b-3d766f85545a",
   "metadata": {},
   "outputs": [],
   "source": [
    "X, y = mnist['data'], mnist['target']"
   ]
  },
  {
   "cell_type": "code",
   "execution_count": 50,
   "id": "3b655720-5c04-492b-815f-edc3e77dd456",
   "metadata": {},
   "outputs": [],
   "source": [
    "#Having a look at a digit by reshaping the image to a 28x28\n",
    "import matplotlib as mpl\n",
    "import matplotlib.pyplot as plt"
   ]
  },
  {
   "cell_type": "code",
   "execution_count": 51,
   "id": "d5f938a4-6211-4cc4-9ba6-164e9d27d9ad",
   "metadata": {},
   "outputs": [],
   "source": [
    "X2 = X.to_numpy()"
   ]
  },
  {
   "cell_type": "code",
   "execution_count": 52,
   "id": "acf8a69c-cb3c-47cf-95af-303595342f40",
   "metadata": {},
   "outputs": [],
   "source": [
    "import numpy as np\n",
    "import pandas as pd\n",
    "some_digit = X2[0].reshape(28,28)\n",
    "some_digit2 = X2[1].reshape(28,28)\n",
    "tot = np.concatenate((some_digit,some_digit2),axis=1)"
   ]
  },
  {
   "cell_type": "code",
   "execution_count": 53,
   "id": "fbc4341a-4f6d-4578-a945-7d6a1005c9fe",
   "metadata": {},
   "outputs": [
    {
     "data": {
      "text/plain": [
       "(-0.5, 55.5, 27.5, -0.5)"
      ]
     },
     "execution_count": 53,
     "metadata": {},
     "output_type": "execute_result"
    },
    {
     "data": {
      "image/png": "[encoded data removed]",
      "text/plain": [
       "<Figure size 640x480 with 1 Axes>"
      ]
     },
     "metadata": {},
     "output_type": "display_data"
    }
   ],
   "source": [
    "plt.imshow(tot, cmap='binary')\n",
    "plt.axis('off')"
   ]
  },
  {
   "cell_type": "code",
   "execution_count": 54,
   "id": "982fd438-c283-45fc-b29a-46d9eb13eda7",
   "metadata": {},
   "outputs": [
    {
     "name": "stdout",
     "output_type": "stream",
     "text": [
      "5\n"
     ]
    }
   ],
   "source": [
    "print(y[0])"
   ]
  },
  {
   "cell_type": "code",
   "execution_count": null,
   "id": "b35ddd2b-5ed2-42aa-8baf-0910cd9b9799",
   "metadata": {},
   "outputs": [],
   "source": []
  },
  {
   "cell_type": "code",
   "execution_count": 55,
   "id": "965fd2b9-e238-4770-ab53-81eca065aa3f",
   "metadata": {},
   "outputs": [],
   "source": [
    "y = y.astype(int)"
   ]
  },
  {
   "cell_type": "code",
   "execution_count": 56,
   "id": "3133b1f9-343b-4d2e-9c8d-0ebad37b7405",
   "metadata": {},
   "outputs": [
    {
     "data": {
      "text/plain": [
       "array([[1, 2, 3, 4],\n",
       "       [5, 6, 7, 8]])"
      ]
     },
     "execution_count": 56,
     "metadata": {},
     "output_type": "execute_result"
    }
   ],
   "source": [
    "a1 = np.array([[1,2],[5,6]]); a2 = np.array([[3,4],[7,8]])\n",
    "np.concatenate((a1,a2), axis=1)"
   ]
  },
  {
   "cell_type": "code",
   "execution_count": 57,
   "id": "98ec7231-3d14-402f-8c92-a7a178e66640",
   "metadata": {},
   "outputs": [],
   "source": [
    "#splitting between training and test sets\n",
    "X_train, X_test, y_train, y_test = X[:60000], X[60000:], y[:60000], y[60000:]"
   ]
  },
  {
   "cell_type": "code",
   "execution_count": 58,
   "id": "4e43bf89-5bc7-4c31-b380-114ddf2b98e8",
   "metadata": {},
   "outputs": [],
   "source": [
    "#Let's train a binary classifier for number 5\n",
    "y_train_5 = y_train == 5\n",
    "y_test_5 = y_test == 5"
   ]
  },
  {
   "cell_type": "code",
   "execution_count": 59,
   "id": "24fc3ef6-6eaa-49cc-9528-809894be1565",
   "metadata": {},
   "outputs": [
    {
     "data": {
      "text/plain": [
       "0         True\n",
       "1        False\n",
       "2        False\n",
       "3        False\n",
       "4        False\n",
       "         ...  \n",
       "59995    False\n",
       "59996    False\n",
       "59997     True\n",
       "59998    False\n",
       "59999    False\n",
       "Name: class, Length: 60000, dtype: bool"
      ]
     },
     "execution_count": 59,
     "metadata": {},
     "output_type": "execute_result"
    }
   ],
   "source": [
    "y_train_5"
   ]
  },
  {
   "cell_type": "code",
   "execution_count": 60,
   "id": "52e589e7-0a7b-480a-8fc7-f3f085c1a3b2",
   "metadata": {},
   "outputs": [
    {
     "data": {
      "text/plain": [
       "SGDClassifier(random_state=42)"
      ]
     },
     "execution_count": 60,
     "metadata": {},
     "output_type": "execute_result"
    }
   ],
   "source": [
    "from sklearn.linear_model import SGDClassifier\n",
    "sgd_clf = SGDClassifier(random_state=42)\n",
    "sgd_clf.fit(X_train, y_train_5)"
   ]
  },
  {
   "cell_type": "code",
   "execution_count": 61,
   "id": "a1830d13-04e6-4f4d-918b-3e3c41f9b23d",
   "metadata": {},
   "outputs": [
    {
     "data": {
      "text/plain": [
       "array([ True, False, False, ...,  True, False, False])"
      ]
     },
     "execution_count": 61,
     "metadata": {},
     "output_type": "execute_result"
    }
   ],
   "source": [
    "sgd_clf.predict(X_train)"
   ]
  },
  {
   "cell_type": "code",
   "execution_count": 62,
   "id": "1ef74a39-4656-4a4c-9a86-f7d73484350f",
   "metadata": {},
   "outputs": [
    {
     "name": "stdout",
     "output_type": "stream",
     "text": [
      "0.9669\n",
      "0.91625\n",
      "0.96785\n"
     ]
    }
   ],
   "source": [
    "#Implementing a manual* Cross-Validation\n",
    "from sklearn.model_selection import StratifiedKFold\n",
    "from sklearn.base import clone\n",
    "from sklearn.metrics import accuracy_score\n",
    "strat_kfold = StratifiedKFold(n_splits=3, shuffle= True, random_state=42)\n",
    "\n",
    "for train_index, test_index in strat_kfold.split(X_train, y_train_5):\n",
    "    X_train_fold = X_train.iloc[list(train_index)]\n",
    "    y_train_fold = y_train_5.iloc[list(train_index)]\n",
    "    X_test_fold = X_train.iloc[list(test_index)]\n",
    "    y_test_fold = y_train_5.iloc[list(test_index)]\n",
    "    sgd_clf.fit(X_train_fold, y_train_fold)\n",
    "    y_hat = sgd_clf.predict(X_test_fold)\n",
    "    print(accuracy_score(y_hat, y_test_fold))\n",
    "    #print(sum(y_hat == y_test_fold)/y_hat.size)"
   ]
  },
  {
   "cell_type": "code",
   "execution_count": 63,
   "id": "48f72c42-4f72-4d86-aaa8-ccbf3615b623",
   "metadata": {},
   "outputs": [],
   "source": [
    "#Using Cross-Validation\n",
    "from sklearn.model_selection import cross_val_score\n",
    "cvs=cross_val_score(sgd_clf,X_train,y_train_5,cv=3)"
   ]
  },
  {
   "cell_type": "code",
   "execution_count": 64,
   "id": "557f105a-5991-4c42-a0f2-dd8deffa33df",
   "metadata": {},
   "outputs": [
    {
     "name": "stdout",
     "output_type": "stream",
     "text": [
      "[0.95035 0.96035 0.9604 ]\n"
     ]
    }
   ],
   "source": [
    "print(cvs)"
   ]
  },
  {
   "cell_type": "markdown",
   "id": "230b2794-367c-441c-a51b-4b9263c074b6",
   "metadata": {},
   "source": [
    "##### The problem is that even a dummy classifier might perform well if there are not so many 5s"
   ]
  },
  {
   "cell_type": "code",
   "execution_count": 65,
   "id": "302fc172-d804-48fd-8f62-f7f812ef0891",
   "metadata": {},
   "outputs": [],
   "source": [
    "from sklearn.base import BaseEstimator\n",
    "class Never5Classifier(BaseEstimator):\n",
    "    def fit(self, X, Y=None):\n",
    "        return self\n",
    "    def transform(self,X):\n",
    "        return np.zeros(len(X), dtype = bool) #this is not necessary as it's the same of predict\n",
    "    def predict(self,X):\n",
    "        return np.zeros(len(X), dtype = bool)\n",
    "    "
   ]
  },
  {
   "cell_type": "code",
   "execution_count": 66,
   "id": "3fa55f7a-5cae-4f42-8a38-8a729bfc3b65",
   "metadata": {},
   "outputs": [
    {
     "data": {
      "text/plain": [
       "array([0.91125, 0.90855, 0.90915])"
      ]
     },
     "execution_count": 66,
     "metadata": {},
     "output_type": "execute_result"
    }
   ],
   "source": [
    "trial = Never5Classifier()\n",
    "cross_val_score(trial,X_train,y_train_5,cv=3,scoring='accuracy')"
   ]
  },
  {
   "cell_type": "code",
   "execution_count": 67,
   "id": "492fba13-8650-42a3-b05f-8c5a09194a72",
   "metadata": {},
   "outputs": [],
   "source": [
    "#The confusion matrix is a way to deal with classification accuracy [[TN, FP], [FN, TP]]\n",
    "from sklearn.model_selection import cross_val_predict\n",
    "y_train_pred = cross_val_predict(sgd_clf, X_train, y_train_5, cv=3)"
   ]
  },
  {
   "cell_type": "code",
   "execution_count": 68,
   "id": "2ca7309c-5469-4e34-a90a-d4e0c47c7964",
   "metadata": {},
   "outputs": [
    {
     "data": {
      "text/plain": [
       "60000"
      ]
     },
     "execution_count": 68,
     "metadata": {},
     "output_type": "execute_result"
    }
   ],
   "source": [
    "y_train_pred.size"
   ]
  },
  {
   "cell_type": "code",
   "execution_count": 69,
   "id": "d3aa6ccd-07da-4752-bfce-c1d9da6f31e4",
   "metadata": {},
   "outputs": [
    {
     "data": {
      "text/plain": [
       "array([[53892,  1891],\n",
       "       [  687,  3530]], dtype=int64)"
      ]
     },
     "execution_count": 69,
     "metadata": {},
     "output_type": "execute_result"
    }
   ],
   "source": [
    "from sklearn.metrics import confusion_matrix\n",
    "confusion_matrix(y_train_pred,y_train_5)"
   ]
  },
  {
   "cell_type": "markdown",
   "id": "5fd4b570-82df-4d48-a57f-7862e514b84b",
   "metadata": {
    "tags": []
   },
   "source": [
    "### The values in the confusion matrix one can obtain are Precision and Recall\n",
    "#### Precision is TP/(TP + FP)\n",
    "#### Recall is TP/(TP + FN)"
   ]
  },
  {
   "cell_type": "code",
   "execution_count": 70,
   "id": "8a8cc1d9-e28a-471e-a017-790e5083ffbf",
   "metadata": {},
   "outputs": [
    {
     "name": "stdout",
     "output_type": "stream",
     "text": [
      "Recall: 0.8370879772350012\n",
      "Precision: 0.6511713705958311\n"
     ]
    }
   ],
   "source": [
    "from sklearn.metrics import recall_score, precision_score\n",
    "print('Recall:', recall_score(y_train_pred,y_train_5))\n",
    "print('Precision:', precision_score(y_train_pred,y_train_5))"
   ]
  },
  {
   "cell_type": "code",
   "execution_count": 71,
   "id": "0ac80707-5db0-4bf2-be40-48060a5cc97b",
   "metadata": {},
   "outputs": [
    {
     "data": {
      "text/plain": [
       "0.7325171197343846"
      ]
     },
     "execution_count": 71,
     "metadata": {},
     "output_type": "execute_result"
    }
   ],
   "source": [
    "#The harmonic mean of both values is calles the F_1 score\n",
    "from sklearn.metrics import f1_score\n",
    "f1_score(y_train_pred,y_train_5)"
   ]
  }
 ],
 "metadata": {
  "kernelspec": {
   "display_name": "Python 3 (ipykernel)",
   "language": "python",
   "name": "python3"
  },
  "language_info": {
   "codemirror_mode": {
    "name": "ipython",
    "version": 3
   },
   "file_extension": ".py",
   "mimetype": "text/x-python",
   "name": "python",
   "nbconvert_exporter": "python",
   "pygments_lexer": "ipython3",
   "version": "3.9.13"
  }
 },
 "nbformat": 4,
 "nbformat_minor": 5
}
